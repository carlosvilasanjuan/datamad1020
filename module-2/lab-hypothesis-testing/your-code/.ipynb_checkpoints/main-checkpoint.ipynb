{
 "cells": [
  {
   "cell_type": "markdown",
   "metadata": {},
   "source": [
    "# Before your start:\n",
    "- Read the README.md file\n",
    "- Comment as much as you can and use the resources (README.md file)\n",
    "- Happy learning!"
   ]
  },
  {
   "cell_type": "code",
   "execution_count": 1,
   "metadata": {},
   "outputs": [],
   "source": [
    "# import numpy and pandas\n"
   ]
  },
  {
   "cell_type": "markdown",
   "metadata": {},
   "source": [
    "# Challenge 1 - Exploring the Data\n",
    "\n",
    "In this challenge, we will examine all salaries of employees of the City of Chicago. We will start by loading the dataset and examining its contents"
   ]
  },
  {
   "cell_type": "code",
   "execution_count": 2,
   "metadata": {},
   "outputs": [],
   "source": [
    "# Run this code:\n",
    "import pandas as pd\n",
    "salaries = pd.read_csv('../Current_Employee_Names__Salaries__and_Position_Titles.csv')"
   ]
  },
  {
   "cell_type": "markdown",
   "metadata": {},
   "source": [
    "Examine the `salaries` dataset using the `head` function below."
   ]
  },
  {
   "cell_type": "code",
   "execution_count": 43,
   "metadata": {},
   "outputs": [
    {
     "data": {
      "text/html": [
       "<div>\n",
       "<style scoped>\n",
       "    .dataframe tbody tr th:only-of-type {\n",
       "        vertical-align: middle;\n",
       "    }\n",
       "\n",
       "    .dataframe tbody tr th {\n",
       "        vertical-align: top;\n",
       "    }\n",
       "\n",
       "    .dataframe thead th {\n",
       "        text-align: right;\n",
       "    }\n",
       "</style>\n",
       "<table border=\"1\" class=\"dataframe\">\n",
       "  <thead>\n",
       "    <tr style=\"text-align: right;\">\n",
       "      <th></th>\n",
       "      <th>Name</th>\n",
       "      <th>Job Titles</th>\n",
       "      <th>Department</th>\n",
       "      <th>Full or Part-Time</th>\n",
       "      <th>Salary or Hourly</th>\n",
       "      <th>Typical Hours</th>\n",
       "      <th>Annual Salary</th>\n",
       "      <th>Hourly Rate</th>\n",
       "    </tr>\n",
       "  </thead>\n",
       "  <tbody>\n",
       "    <tr>\n",
       "      <th>0</th>\n",
       "      <td>AARON,  JEFFERY M</td>\n",
       "      <td>SERGEANT</td>\n",
       "      <td>POLICE</td>\n",
       "      <td>F</td>\n",
       "      <td>Salary</td>\n",
       "      <td>NaN</td>\n",
       "      <td>101442.0</td>\n",
       "      <td>NaN</td>\n",
       "    </tr>\n",
       "    <tr>\n",
       "      <th>1</th>\n",
       "      <td>AARON,  KARINA</td>\n",
       "      <td>POLICE OFFICER (ASSIGNED AS DETECTIVE)</td>\n",
       "      <td>POLICE</td>\n",
       "      <td>F</td>\n",
       "      <td>Salary</td>\n",
       "      <td>NaN</td>\n",
       "      <td>94122.0</td>\n",
       "      <td>NaN</td>\n",
       "    </tr>\n",
       "    <tr>\n",
       "      <th>2</th>\n",
       "      <td>AARON,  KIMBERLEI R</td>\n",
       "      <td>CHIEF CONTRACT EXPEDITER</td>\n",
       "      <td>GENERAL SERVICES</td>\n",
       "      <td>F</td>\n",
       "      <td>Salary</td>\n",
       "      <td>NaN</td>\n",
       "      <td>101592.0</td>\n",
       "      <td>NaN</td>\n",
       "    </tr>\n",
       "    <tr>\n",
       "      <th>3</th>\n",
       "      <td>ABAD JR,  VICENTE M</td>\n",
       "      <td>CIVIL ENGINEER IV</td>\n",
       "      <td>WATER MGMNT</td>\n",
       "      <td>F</td>\n",
       "      <td>Salary</td>\n",
       "      <td>NaN</td>\n",
       "      <td>110064.0</td>\n",
       "      <td>NaN</td>\n",
       "    </tr>\n",
       "    <tr>\n",
       "      <th>4</th>\n",
       "      <td>ABASCAL,  REECE E</td>\n",
       "      <td>TRAFFIC CONTROL AIDE-HOURLY</td>\n",
       "      <td>OEMC</td>\n",
       "      <td>P</td>\n",
       "      <td>Hourly</td>\n",
       "      <td>20.0</td>\n",
       "      <td>NaN</td>\n",
       "      <td>19.86</td>\n",
       "    </tr>\n",
       "  </tbody>\n",
       "</table>\n",
       "</div>"
      ],
      "text/plain": [
       "                  Name                              Job Titles  \\\n",
       "0    AARON,  JEFFERY M                                SERGEANT   \n",
       "1      AARON,  KARINA   POLICE OFFICER (ASSIGNED AS DETECTIVE)   \n",
       "2  AARON,  KIMBERLEI R                CHIEF CONTRACT EXPEDITER   \n",
       "3  ABAD JR,  VICENTE M                       CIVIL ENGINEER IV   \n",
       "4    ABASCAL,  REECE E             TRAFFIC CONTROL AIDE-HOURLY   \n",
       "\n",
       "         Department Full or Part-Time Salary or Hourly  Typical Hours  \\\n",
       "0            POLICE                 F           Salary            NaN   \n",
       "1            POLICE                 F           Salary            NaN   \n",
       "2  GENERAL SERVICES                 F           Salary            NaN   \n",
       "3       WATER MGMNT                 F           Salary            NaN   \n",
       "4              OEMC                 P           Hourly           20.0   \n",
       "\n",
       "   Annual Salary  Hourly Rate  \n",
       "0       101442.0          NaN  \n",
       "1        94122.0          NaN  \n",
       "2       101592.0          NaN  \n",
       "3       110064.0          NaN  \n",
       "4            NaN        19.86  "
      ]
     },
     "execution_count": 43,
     "metadata": {},
     "output_type": "execute_result"
    }
   ],
   "source": [
    "# Your code here:\n",
    "salaries.head()"
   ]
  },
  {
   "cell_type": "markdown",
   "metadata": {},
   "source": [
    "We see from looking at the `head` function that there is quite a bit of missing data. Let's examine how much missing data is in each column. Produce this output in the cell below"
   ]
  },
  {
   "cell_type": "code",
   "execution_count": 18,
   "metadata": {},
   "outputs": [
    {
     "data": {
      "text/plain": [
       "[{'Name': 33183},\n",
       " {'Job Titles': 33183},\n",
       " {'Department': 33183},\n",
       " {'Full or Part-Time': 33183},\n",
       " {'Salary or Hourly': 33183},\n",
       " {'Typical Hours': 8022},\n",
       " {'Annual Salary': 25161},\n",
       " {'Hourly Rate': 8022}]"
      ]
     },
     "execution_count": 18,
     "metadata": {},
     "output_type": "execute_result"
    }
   ],
   "source": [
    "# Your code here:\n",
    "dataxcolumn = [{salary:salaries[salary].count()} for salary in salaries.columns]\n",
    "dataxcolumn    "
   ]
  },
  {
   "cell_type": "markdown",
   "metadata": {},
   "source": [
    "Let's also look at the count of hourly vs. salaried employees. Write the code in the cell below"
   ]
  },
  {
   "cell_type": "code",
   "execution_count": 34,
   "metadata": {},
   "outputs": [
    {
     "name": "stdout",
     "output_type": "stream",
     "text": [
      "Hourly employees amount for 8022\n",
      "Salary employees amount for 25161\n",
      "\n",
      "Hourly employees amount for 24.17502938251514% out of total salaries\n",
      "Hourly employees amount for 25161% out of total salaries\n"
     ]
    }
   ],
   "source": [
    "# Your code here:\n",
    "total_hourly = len(salaries[salaries['Salary or Hourly']=='Hourly'])\n",
    "hourly_outoftotal = total_hourly/len(salaries)\n",
    "total_salary = len(salaries)-total_hourly\n",
    "\n",
    "print (f'Hourly employees amount for {total_hourly}')\n",
    "print (f'Salary employees amount for {total_sala ry}\\n')\n",
    "print (f'Hourly employees amount for {hourly_outoftotal*100}% out of total salaries')\n",
    "print (f'Hourly employees amount for {total_salary}% out of total salaries')"
   ]
  },
  {
   "cell_type": "markdown",
   "metadata": {},
   "source": [
    "What this information indicates is that the table contains information about two types of employees - salaried and hourly. Some columns apply only to one type of employee while other columns only apply to another kind. This is why there are so many missing values. Therefore, we will not do anything to handle the missing values."
   ]
  },
  {
   "cell_type": "markdown",
   "metadata": {},
   "source": [
    "There are different departments in the city. List all departments and the count of employees in each department."
   ]
  },
  {
   "cell_type": "code",
   "execution_count": 64,
   "metadata": {},
   "outputs": [
    {
     "name": "stdout",
     "output_type": "stream",
     "text": [
      "[{'HUMAN RELATIONS': 16}, {'TRANSPORTN': 1140}, {'HEALTH': 488}, {'BUSINESS AFFAIRS': 171}, {'BOARD OF ETHICS': 8}, {'PROCUREMENT': 92}, {'INSPECTOR GEN': 87}, {'LICENSE APPL COMM': 1}, {'HUMAN RESOURCES': 79}, {'LAW': 407}, {'PUBLIC LIBRARY': 1015}, {'CULTURAL AFFAIRS': 65}, {'POLICE BOARD': 2}, {'ANIMAL CONTRL': 81}, {'TREASURER': 22}, {\"MAYOR'S OFFICE\": 85}, {'COMMUNITY DEVELOPMENT': 207}, {'CITY CLERK': 84}, {'OEMC': 2102}, {'CITY COUNCIL': 411}, {'AVIATION': 1629}, {'STREETS & SAN': 2198}, {'FIRE': 4641}, {'BUILDINGS': 269}, {'FAMILY & SUPPORT': 615}, {'DISABILITIES': 28}, {'WATER MGMNT': 1879}, {'POLICE': 13414}, {'ADMIN HEARNG': 39}, {'BUDGET & MGMT': 46}, {'GENERAL SERVICES': 980}, {'DoIT': 99}, {'COPA': 116}, {'BOARD OF ELECTION': 107}, {'FINANCE': 560}]\n"
     ]
    }
   ],
   "source": [
    "# Your code here:\n",
    "salaries_dep = [{dep:len(salaries.loc[salaries['Department']==dep])} for dep in set(salaries['Department'])]\n",
    "print(salaries_dep)"
   ]
  },
  {
   "cell_type": "markdown",
   "metadata": {},
   "source": [
    "# Challenge 2 - Hypothesis Tests\n",
    "\n",
    "In this section of the lab, we will __test whether___ the __hourly wage of__ all __hourly workers__ is __significantly different from $30/hr__. Import the correct one sample test function from scipy and perform the hypothesis test for a 95% two sided confidence interval."
   ]
  },
  {
   "cell_type": "code",
   "execution_count": 90,
   "metadata": {},
   "outputs": [
    {
     "name": "stdout",
     "output_type": "stream",
     "text": [
      "Two-tailed test with Pvalue= 4.3230240486229894e-92 so we can reject null hypotesis h0 and conclude the hourly wage is significantly different from $30/hour with an interval of confidence of 95%\n"
     ]
    }
   ],
   "source": [
    "# Your code here:pztest[0]\n",
    "## Hypotesis testing ### One Sample ### Unknown Population std => T.Test\n",
    "import scipy.stats as ss\n",
    "\n",
    "#0: \n",
    "mu = 30\n",
    "\n",
    "sample = salaries[salaries['Salary or Hourly']=='Hourly']['Hourly Rate']\n",
    "mean = sample.mean()\n",
    "\n",
    "ttest= ss.ttest_1samp(a=sample,popmean = mu, nan_policy='omit')\n",
    "t_value = ttest[0]\n",
    "p_value = ttest[1]\n",
    "\n",
    "alfa = 0.05\n",
    "\n",
    "print(f\"Two-tailed test with Pvalue= {p_value} so we can reject null hypotesis h0 and conclude the hourly wage is significantly different from $30/hour with an interval of confidence of 95%\")\n",
    "\n",
    "\n"
   ]
  },
  {
   "cell_type": "markdown",
   "metadata": {},
   "source": [
    "We are also curious about salaries in the police force. The chief of police in Chicago claimed in a press briefing that __salaries this year are higher than last year's mean of $86000/year a year__ for all salaried employees. Test this __one sided__ hypothesis using a __95% confidence interval__.\n",
    "\n",
    "Hint: A one tailed test has a p-value that is half of the two tailed p-value. If our hypothesis is greater than, then to reject, the test statistic must also be positive."
   ]
  },
  {
   "cell_type": "code",
   "execution_count": 108,
   "metadata": {},
   "outputs": [
    {
     "name": "stdout",
     "output_type": "stream",
     "text": [
      "0.00103017017755027 p_value is lower than alpha so H0 may can be rejected with interval of confidence of over 95%\n"
     ]
    }
   ],
   "source": [
    "# Your code here:\n",
    "\n",
    "# H0:salaries this year are higher than last year's mean of $86000/year a year\n",
    "sample = salaries[salaries['Department']=='POLICE']['Annual Salary']\n",
    "# Comparing means :\n",
    "mu = 86000\n",
    "alpha = 0.05\n",
    "\n",
    "ttest= ss.ttest_1samp(a=sample,popmean = mu, nan_policy='omit')\n",
    "t_value = ttest[0]\n",
    "p_value_two_tails = ttest[1]\n",
    "p_value = p_value_two_tails/2\n",
    "print(p_value,\"p_value is lower than alpha so H0 can be rejected with interval of confidence of over 95%\")\n"
   ]
  },
  {
   "cell_type": "markdown",
   "metadata": {},
   "source": [
    "Using the `crosstab` function, find the department that has the most hourly workers. "
   ]
  },
  {
   "cell_type": "code",
   "execution_count": 95,
   "metadata": {},
   "outputs": [
    {
     "data": {
      "text/plain": [
       "Index(['Name', 'Job Titles', 'Department', 'Full or Part-Time',\n",
       "       'Salary or Hourly', 'Typical Hours', 'Annual Salary', 'Hourly Rate'],\n",
       "      dtype='object')"
      ]
     },
     "execution_count": 95,
     "metadata": {},
     "output_type": "execute_result"
    }
   ],
   "source": [
    "# Your code here:\n",
    "salaries.columns"
   ]
  },
  {
   "cell_type": "markdown",
   "metadata": {},
   "source": [
    "The workers from the department with the most hourly workers have complained that their hourly wage is less than $35/hour. Using a one sample t-test, test this one-sided hypothesis at the 95% confidence level."
   ]
  },
  {
   "cell_type": "code",
   "execution_count": 110,
   "metadata": {},
   "outputs": [
    {
     "name": "stdout",
     "output_type": "stream",
     "text": [
      "1.8818444649254009e-59 p_value is lower than alpha so H0 can be rejected with interval of confidence of over 95%\n"
     ]
    }
   ],
   "source": [
    "# Your code here:\n",
    "sample = salaries[salaries['Salary or Hourly']=='Hourly']['Hourly Rate']\n",
    "# Comparing means :\n",
    "mu = 35\n",
    "alpha = 0.05\n",
    "\n",
    "ttest= ss.ttest_1samp(a=sample,popmean = mu, nan_policy='omit')\n",
    "t_value = ttest[0]\n",
    "p_value_two_tails = ttest[1]\n",
    "p_value = p_value_two_tails/2\n",
    "print(p_value,\"p_value is lower than alpha so H0 can be rejected with interval of confidence of over 95%\")\n"
   ]
  },
  {
   "cell_type": "markdown",
   "metadata": {},
   "source": [
    "# Challenge 3 - Constructing Confidence Intervals\n",
    "\n",
    "While testing our hypothesis is a great way to gather empirical evidence for accepting or rejecting the hypothesis, another way to gather evidence is by creating a confidence interval. A confidence interval gives us information about the true mean of the population. So for a 95% confidence interval, we are 95% sure that the mean of the population is within the confidence interval. \n",
    ").\n",
    "\n",
    "To read more about confidence intervals, click [here](https://en.wikipedia.org/wiki/Confidence_interval).\n",
    "\n",
    "\n",
    "In the cell below, we will construct a 95% confidence interval for the mean hourly wage of all hourly workers. \n",
    "\n",
    "The confidence interval is computed in SciPy using the `t.interval` function. You can read more about this function [here](https://docs.scipy.org/doc/scipy-0.14.0/reference/generated/scipy.stats.t.html).\n",
    "\n",
    "To compute the confidence interval of the hourly wage, use the 0.95 for the confidence level, number of rows - 1 for degrees of freedom, the mean of the sample for the location parameter and the standard error for the scale. The standard error can be computed using [this](https://docs.scipy.org/doc/scipy/reference/generated/scipy.stats.sem.html) function in SciPy."
   ]
  },
  {
   "cell_type": "code",
   "execution_count": 115,
   "metadata": {},
   "outputs": [
    {
     "data": {
      "text/plain": [
       "(32.780077183391256, 32.79703824916922)"
      ]
     },
     "execution_count": 115,
     "metadata": {},
     "output_type": "execute_result"
    }
   ],
   "source": [
    "# Your code here:\n",
    "alpha = 0.05\n",
    "sample = salaries[salaries['Salary or Hourly']=='Hourly']['Hourly Rate']\n",
    "mean = sample.mean()\n",
    "#Standard Error of the Mean\n",
    "sem = sample.sem()\n",
    "df = len(sample)-1\n",
    "ss.t.interval(alpha=alpha, df=df, loc=mean, scale=sem)"
   ]
  },
  {
   "cell_type": "markdown",
   "metadata": {},
   "source": [
    "Now construct the 95% confidence interval for all salaried employeed in the police in the cell below."
   ]
  },
  {
   "cell_type": "code",
   "execution_count": 116,
   "metadata": {},
   "outputs": [
    {
     "data": {
      "text/plain": [
       "(86476.51765478257, 86496.31135148421)"
      ]
     },
     "execution_count": 116,
     "metadata": {},
     "output_type": "execute_result"
    }
   ],
   "source": [
    "alpha = 0.05\n",
    "sample = salaries[salaries['Department']=='POLICE']['Annual Salary']\n",
    "mean = sample.mean()\n",
    "#Standard Error of the Mean\n",
    "sem = sample.sem()\n",
    "df = len(sample)-1\n",
    "ss.t.interval(alpha=alpha, df=df, loc=mean, scale=sem)\n"
   ]
  },
  {
   "cell_type": "markdown",
   "metadata": {},
   "source": [
    "# Challenge 4 - Hypothesis Tests of Proportions\n",
    "\n",
    "Another type of one sample test is a hypothesis test of proportions. In this test, we examine whether the proportion of a group in our sample is significantly different than a fraction. \n",
    "\n",
    "You can read more about one sample proportion tests [here](http://sphweb.bumc.bu.edu/otlt/MPH-Modules/BS/SAS/SAS6-CategoricalData/SAS6-CategoricalData2.html).\n",
    "\n",
    "In the cell below, use the `proportions_ztest` function from `statsmodels` to perform a hypothesis test that will determine whether the number of hourly workers in the City of Chicago is significantly different from 25% at the 95% confidence level."
   ]
  },
  {
   "cell_type": "code",
   "execution_count": 123,
   "metadata": {},
   "outputs": [
    {
     "name": "stdout",
     "output_type": "stream",
     "text": [
      "{'zstat': -3.5099964213703005, 'pvalue': 0.0004481127249057967} pvalue < alpha ho rejected\n"
     ]
    }
   ],
   "source": [
    "# Your code here:\n",
    "from statsmodels.stats.proportion import proportions_ztest as pzt\n",
    "# Ho = Amount of hourly workers not significantly different from 25% with a CI(95%)\n",
    "sample = salaries[salaries['Salary or Hourly']=='Hourly']\n",
    "nobs = len(salaries['Salary or Hourly'])\n",
    "\n",
    "pztest = pzt(count= len(sample), nobs = nobs, value = 0.25)\n",
    "zstat = pztest[0]\n",
    "pvalue = pztest[1]\n",
    "prettyztest = {'zstat':zstat,'pvalue':pvalue}\n",
    "print(f'{prettyztest} pvalue < alpha ho rejected') \n"
   ]
  },
  {
   "cell_type": "code",
   "execution_count": null,
   "metadata": {},
   "outputs": [],
   "source": []
  }
 ],
 "metadata": {
  "kernelspec": {
   "display_name": "Python 3",
   "language": "python",
   "name": "python3"
  },
  "language_info": {
   "codemirror_mode": {
    "name": "ipython",
    "version": 3
   },
   "file_extension": ".py",
   "mimetype": "text/x-python",
   "name": "python",
   "nbconvert_exporter": "python",
   "pygments_lexer": "ipython3",
   "version": "3.8.5"
  }
 },
 "nbformat": 4,
 "nbformat_minor": 2
}
