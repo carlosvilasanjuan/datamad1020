{
 "cells": [
  {
   "cell_type": "code",
   "execution_count": 1,
   "metadata": {},
   "outputs": [],
   "source": [
    "import pandas as pd"
   ]
  },
  {
   "cell_type": "code",
   "execution_count": 13,
   "metadata": {},
   "outputs": [],
   "source": [
    "df = pd.read_csv(\"../data/nfl_football_team_stats.csv\")"
   ]
  },
  {
   "cell_type": "code",
   "execution_count": 14,
   "metadata": {},
   "outputs": [
    {
     "name": "stdout",
     "output_type": "stream",
     "text": [
      "<class 'pandas.core.frame.DataFrame'>\n",
      "RangeIndex: 4093 entries, 0 to 4092\n",
      "Data columns (total 42 columns):\n",
      " #   Column                         Non-Null Count  Dtype  \n",
      "---  ------                         --------------  -----  \n",
      " 0   Year                           4093 non-null   int64  \n",
      " 1   Date                           4093 non-null   object \n",
      " 2   GameNumber                     4093 non-null   int64  \n",
      " 3   GameLocation                   4093 non-null   object \n",
      " 4   Team                           4093 non-null   object \n",
      " 5   TeamScore                      4093 non-null   int64  \n",
      " 6   Opponent                       4093 non-null   object \n",
      " 7   OppponentScore                 4093 non-null   int64  \n",
      " 8   Result                         4093 non-null   object \n",
      " 9   PassingAttempts                4093 non-null   int64  \n",
      " 10  PassingCompletions             4093 non-null   int64  \n",
      " 11  PassingInterceptions           4093 non-null   int64  \n",
      " 12  PasserRating                   4093 non-null   float64\n",
      " 13  PassingSacks                   4093 non-null   int64  \n",
      " 14  PassingSacksYardsLost          4093 non-null   int64  \n",
      " 15  PassingTouchdowns              4093 non-null   int64  \n",
      " 16  PassingYards                   4093 non-null   int64  \n",
      " 17  ReceivingReceptions            4093 non-null   int64  \n",
      " 18  ReceivingTargets               4093 non-null   int64  \n",
      " 19  ReceivingTouchdowns            4093 non-null   int64  \n",
      " 20  ReceivingYards                 4093 non-null   int64  \n",
      " 21  RushingAttempts                4093 non-null   int64  \n",
      " 22  RushingTouchdowns              4093 non-null   int64  \n",
      " 23  RushingYards                   4093 non-null   int64  \n",
      " 24  DefenseTackes                  4093 non-null   int64  \n",
      " 25  DefenseTackleAssists           4093 non-null   int64  \n",
      " 26  DefenseSacks                   4093 non-null   float64\n",
      " 27  DefenseSafeties                4093 non-null   int64  \n",
      " 28  DefenseInterceptions           4093 non-null   int64  \n",
      " 29  DefenseInterceptionYards       4093 non-null   int64  \n",
      " 30  DefenseInterceptionTouchdowns  4093 non-null   int64  \n",
      " 31  KickReturnAttempts             4093 non-null   int64  \n",
      " 32  KickReturnTouchdowns           4093 non-null   int64  \n",
      " 33  KickReturnYards                4093 non-null   int64  \n",
      " 34  PuntReturnAttempts             4093 non-null   int64  \n",
      " 35  PuntReturnTouchdowns           4093 non-null   int64  \n",
      " 36  PuntReturnYards                4093 non-null   int64  \n",
      " 37  FieldGoalAttempts              4093 non-null   int64  \n",
      " 38  FieldGoals                     4093 non-null   int64  \n",
      " 39  PuntingAttempts                4093 non-null   int64  \n",
      " 40  PuntsBlocked                   4093 non-null   int64  \n",
      " 41  PuntingYards                   4093 non-null   int64  \n",
      "dtypes: float64(2), int64(35), object(5)\n",
      "memory usage: 1.3+ MB\n"
     ]
    }
   ],
   "source": [
    "df.info()"
   ]
  },
  {
   "cell_type": "code",
   "execution_count": 17,
   "metadata": {},
   "outputs": [],
   "source": [
    "df['Year'] = df['Year'].astype(str)"
   ]
  },
  {
   "cell_type": "code",
   "execution_count": 18,
   "metadata": {},
   "outputs": [],
   "source": [
    "df.to_csv('../data/nfl_football_team_stats.v2.csv')"
   ]
  },
  {
   "cell_type": "code",
   "execution_count": null,
   "metadata": {},
   "outputs": [],
   "source": []
  }
 ],
 "metadata": {
  "kernelspec": {
   "display_name": "Python 3",
   "language": "python",
   "name": "python3"
  },
  "language_info": {
   "codemirror_mode": {
    "name": "ipython",
    "version": 3
   },
   "file_extension": ".py",
   "mimetype": "text/x-python",
   "name": "python",
   "nbconvert_exporter": "python",
   "pygments_lexer": "ipython3",
   "version": "3.8.5"
  }
 },
 "nbformat": 4,
 "nbformat_minor": 4
}
