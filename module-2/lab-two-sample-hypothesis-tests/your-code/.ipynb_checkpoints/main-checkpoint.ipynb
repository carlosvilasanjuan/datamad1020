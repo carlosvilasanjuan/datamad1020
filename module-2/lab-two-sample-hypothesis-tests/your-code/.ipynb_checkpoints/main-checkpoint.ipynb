{
 "cells": [
  {
   "cell_type": "markdown",
   "metadata": {},
   "source": [
    "# Before your start:\n",
    "- Read the README.md file\n",
    "- Comment as much as you can and use the resources (README.md file)\n",
    "- Happy learning!"
   ]
  },
  {
   "cell_type": "code",
   "execution_count": 26,
   "metadata": {},
   "outputs": [],
   "source": [
    "# import numpy and pandas\n",
    "import pandas as pd\n",
    "import numpy as np\n",
    "import scipy.stats as ss"
   ]
  },
  {
   "cell_type": "markdown",
   "metadata": {},
   "source": [
    "# Challenge 1 - Independent Sample T-tests\n",
    "\n",
    "In this challenge, we will be using the Pokemon dataset. Before applying statistical methods to this data, let's first examine the data.\n",
    "\n",
    "To load the data, run the code below."
   ]
  },
  {
   "cell_type": "code",
   "execution_count": 4,
   "metadata": {},
   "outputs": [],
   "source": [
    "# Run this code:\n",
    "\n",
    "pokemon = pd.read_csv('../pokemon.csv')"
   ]
  },
  {
   "cell_type": "markdown",
   "metadata": {},
   "source": [
    "Let's start off by looking at the `head` function in the cell below."
   ]
  },
  {
   "cell_type": "code",
   "execution_count": 5,
   "metadata": {},
   "outputs": [
    {
     "data": {
      "text/html": [
       "<div>\n",
       "<style scoped>\n",
       "    .dataframe tbody tr th:only-of-type {\n",
       "        vertical-align: middle;\n",
       "    }\n",
       "\n",
       "    .dataframe tbody tr th {\n",
       "        vertical-align: top;\n",
       "    }\n",
       "\n",
       "    .dataframe thead th {\n",
       "        text-align: right;\n",
       "    }\n",
       "</style>\n",
       "<table border=\"1\" class=\"dataframe\">\n",
       "  <thead>\n",
       "    <tr style=\"text-align: right;\">\n",
       "      <th></th>\n",
       "      <th>#</th>\n",
       "      <th>Name</th>\n",
       "      <th>Type 1</th>\n",
       "      <th>Type 2</th>\n",
       "      <th>Total</th>\n",
       "      <th>HP</th>\n",
       "      <th>Attack</th>\n",
       "      <th>Defense</th>\n",
       "      <th>Sp. Atk</th>\n",
       "      <th>Sp. Def</th>\n",
       "      <th>Speed</th>\n",
       "      <th>Generation</th>\n",
       "      <th>Legendary</th>\n",
       "    </tr>\n",
       "  </thead>\n",
       "  <tbody>\n",
       "    <tr>\n",
       "      <th>0</th>\n",
       "      <td>1</td>\n",
       "      <td>Bulbasaur</td>\n",
       "      <td>Grass</td>\n",
       "      <td>Poison</td>\n",
       "      <td>318</td>\n",
       "      <td>45</td>\n",
       "      <td>49</td>\n",
       "      <td>49</td>\n",
       "      <td>65</td>\n",
       "      <td>65</td>\n",
       "      <td>45</td>\n",
       "      <td>1</td>\n",
       "      <td>False</td>\n",
       "    </tr>\n",
       "    <tr>\n",
       "      <th>1</th>\n",
       "      <td>2</td>\n",
       "      <td>Ivysaur</td>\n",
       "      <td>Grass</td>\n",
       "      <td>Poison</td>\n",
       "      <td>405</td>\n",
       "      <td>60</td>\n",
       "      <td>62</td>\n",
       "      <td>63</td>\n",
       "      <td>80</td>\n",
       "      <td>80</td>\n",
       "      <td>60</td>\n",
       "      <td>1</td>\n",
       "      <td>False</td>\n",
       "    </tr>\n",
       "    <tr>\n",
       "      <th>2</th>\n",
       "      <td>3</td>\n",
       "      <td>Venusaur</td>\n",
       "      <td>Grass</td>\n",
       "      <td>Poison</td>\n",
       "      <td>525</td>\n",
       "      <td>80</td>\n",
       "      <td>82</td>\n",
       "      <td>83</td>\n",
       "      <td>100</td>\n",
       "      <td>100</td>\n",
       "      <td>80</td>\n",
       "      <td>1</td>\n",
       "      <td>False</td>\n",
       "    </tr>\n",
       "    <tr>\n",
       "      <th>3</th>\n",
       "      <td>3</td>\n",
       "      <td>VenusaurMega Venusaur</td>\n",
       "      <td>Grass</td>\n",
       "      <td>Poison</td>\n",
       "      <td>625</td>\n",
       "      <td>80</td>\n",
       "      <td>100</td>\n",
       "      <td>123</td>\n",
       "      <td>122</td>\n",
       "      <td>120</td>\n",
       "      <td>80</td>\n",
       "      <td>1</td>\n",
       "      <td>False</td>\n",
       "    </tr>\n",
       "    <tr>\n",
       "      <th>4</th>\n",
       "      <td>4</td>\n",
       "      <td>Charmander</td>\n",
       "      <td>Fire</td>\n",
       "      <td>NaN</td>\n",
       "      <td>309</td>\n",
       "      <td>39</td>\n",
       "      <td>52</td>\n",
       "      <td>43</td>\n",
       "      <td>60</td>\n",
       "      <td>50</td>\n",
       "      <td>65</td>\n",
       "      <td>1</td>\n",
       "      <td>False</td>\n",
       "    </tr>\n",
       "  </tbody>\n",
       "</table>\n",
       "</div>"
      ],
      "text/plain": [
       "   #                   Name Type 1  Type 2  Total  HP  Attack  Defense  \\\n",
       "0  1              Bulbasaur  Grass  Poison    318  45      49       49   \n",
       "1  2                Ivysaur  Grass  Poison    405  60      62       63   \n",
       "2  3               Venusaur  Grass  Poison    525  80      82       83   \n",
       "3  3  VenusaurMega Venusaur  Grass  Poison    625  80     100      123   \n",
       "4  4             Charmander   Fire     NaN    309  39      52       43   \n",
       "\n",
       "   Sp. Atk  Sp. Def  Speed  Generation  Legendary  \n",
       "0       65       65     45           1      False  \n",
       "1       80       80     60           1      False  \n",
       "2      100      100     80           1      False  \n",
       "3      122      120     80           1      False  \n",
       "4       60       50     65           1      False  "
      ]
     },
     "execution_count": 5,
     "metadata": {},
     "output_type": "execute_result"
    }
   ],
   "source": [
    "# Your code here:\n",
    "\n",
    "pokemon.head()l_mean"
   ]
  },
  {
   "cell_type": "markdown",
   "metadata": {},
   "source": [
    "The first thing we would like to do is compare the legendary Pokemon to the regular Pokemon. To do this, we should examine the data further. What is the count of legendary vs. non legendary Pokemons?"
   ]
  },
  {
   "cell_type": "code",
   "execution_count": 12,
   "metadata": {},
   "outputs": [
    {
     "name": "stdout",
     "output_type": "stream",
     "text": [
      "legendary: 65, non legendary:735\n"
     ]
    }
   ],
   "source": [
    "# Your code here:\n",
    "legendary = pokemon[pokemon['Legendary']==True]\n",
    "non_legendary = pokemon[pokemon['Legendary']==False]\n",
    "\n",
    "count_legendary = len(legendary)\n",
    "count_nonlegendary = len(non_legendary)\n",
    "print(f'legendary: {count_legendary}, non legendary:{count_nonlegendary}')"
   ]
  },
  {
   "cell_type": "markdown",
   "metadata": {},
   "source": [
    "Compute the mean and standard deviation of the total points for both legendary and non-legendary Pokemon."
   ]
  },
  {
   "cell_type": "code",
   "execution_count": 25,
   "metadata": {},
   "outputs": [
    {
     "name": "stdout",
     "output_type": "stream",
     "text": [
      "l_mean: 637.3846153846154 l_std: 60.93738905315344 \n",
      "n_mean: 417.21360544217686 n_std: 106.76041745713005\n"
     ]
    }
   ],
   "source": [
    "# Your code here:\n",
    "l_mean = legendary['Total'].mean()\n",
    "l_std = legendary['Total'].std()\n",
    "\n",
    "n_mean = non_legendary['Total'].mean()\n",
    "n_std = non_legendary['Total'].std()\n",
    "\n",
    "print('l_mean:', l_mean,'l_std:', l_std, '\\nn_mean:', n_mean,'n_std:', n_std )"
   ]
  },
  {
   "cell_type": "markdown",
   "metadata": {},
   "source": [
    "The computation of the mean might give us a clue regarding how the statistical test may turn out; However, it certainly does not prove whether there is a significant difference between the two groups.\n",
    "\n",
    "In the cell below, use the `ttest_ind` function in `scipy.stats` to compare the the total points for legendary and non-legendary Pokemon. Since we do not have any information about the population, assume the variances are not equal."
   ]
  },
  {
   "cell_type": "code",
   "execution_count": 36,
   "metadata": {},
   "outputs": [
    {
     "name": "stdout",
     "output_type": "stream",
     "text": [
      "H0 is rejected => H1 true with an interval of confidence of 95%\n"
     ]
    }
   ],
   "source": [
    "# Your code here:\n",
    "\n",
    "'''hypotesis:\n",
    "-  the variances are not equal,\n",
    "'''\n",
    "# Ho: no statistical diference on means between L and NL\n",
    "# tails = 2\n",
    "\n",
    "alpha = 0.05\n",
    "ttest = ss.ttest_ind(legendary['Total'],non_legendary['Total'])\n",
    "\n",
    "pvalue  = ttest[1]\n",
    "\n",
    "if pvalue <= alpha:\n",
    "    print('H0 is rejected => H1 true with an interval of confidence of 95%')          \n",
    "else:\n",
    "    print(\"H0 can't be rejected with an interval of confidence of 95%\" )    "
   ]
  },
  {
   "cell_type": "markdown",
   "metadata": {},
   "source": [
    "What do you conclude from this test? Write your conclusions below."
   ]
  },
  {
   "cell_type": "markdown",
   "metadata": {},
   "source": [
    "# Your conclusions here:\n",
    "\n",
    "Statistical diference on means between L and NL exists with an interval of confidence of 95%"
   ]
  },
  {
   "cell_type": "markdown",
   "metadata": {},
   "source": [
    "How about we try to compare the different types of pokemon? In the cell below, list the types of Pokemon from column `Type 1` and the count of each type."
   ]
  },
  {
   "cell_type": "code",
   "execution_count": 44,
   "metadata": {},
   "outputs": [
    {
     "data": {
      "text/plain": [
       "[{'Normal': 98},\n",
       " {'Electric': 44},\n",
       " {'Fighting': 27},\n",
       " {'Psychic': 57},\n",
       " {'Fire': 52},\n",
       " {'Flying': 4},\n",
       " {'Steel': 27},\n",
       " {'Grass': 70},\n",
       " {'Poison': 28},\n",
       " {'Ground': 32},\n",
       " {'Dragon': 32},\n",
       " {'Rock': 44},\n",
       " {'Bug': 69},\n",
       " {'Ice': 24},\n",
       " {'Fairy': 17},\n",
       " {'Water': 112},\n",
       " {'Ghost': 32},\n",
       " {'Dark': 31}]"
      ]
     },
     "execution_count": 44,
     "metadata": {},
     "output_type": "execute_result"
    }
   ],
   "source": [
    "# Your code here:\n",
    "pokemons_by_tpes=[{tpe:len(pokemon[pokemon['Type 1']==tpe])} for tpe in set(pokemon['Type 1'])]\n",
    "pokemons_by_tpes"
   ]
  },
  {
   "cell_type": "markdown",
   "metadata": {},
   "source": [
    "Since water is the largest group of Pokemon, compare the mean and standard deviation of water Pokemon to all other Pokemon."
   ]
  },
  {
   "cell_type": "code",
   "execution_count": 55,
   "metadata": {},
   "outputs": [
    {
     "name": "stdout",
     "output_type": "stream",
     "text": [
      "water_total_mean: 430.45535714285717 water_total_std: 113.1882660643146 total_total_mean: 435.1025 total_total_std: 119.96303975551899\n"
     ]
    }
   ],
   "source": [
    "# Your code here:\n",
    "watwer_total_mean = pokemon[pokemon['Type 1']=='Water']['Total'].mean()\n",
    "water_total_std = pokemon[pokemon['Type 1']=='Water']['Total'].std()\n",
    "\n",
    "total_total_mean = pokemon['Total'].mean()\n",
    "total_total_std = pokemon['Total'].std()\n",
    "\n",
    "print('water_total_mean:',water_total_mean,\n",
    "'water_total_std:',water_total_std,\n",
    "'total_total_mean:',total_total_mean,\n",
    "'total_total_std:',total_total_std)\n"
   ]
  },
  {
   "cell_type": "markdown",
   "metadata": {},
   "source": [
    "Perform a __hypothesis test comparing__ the __mean of total points for water Pokemon to all non-water Pokemon__. __Assume__ the __variances__ are __equal__."
   ]
  },
  {
   "cell_type": "code",
   "execution_count": 61,
   "metadata": {},
   "outputs": [
    {
     "name": "stdout",
     "output_type": "stream",
     "text": [
      "H0 can't be rejected with an interval of confidence of 95%\n"
     ]
    }
   ],
   "source": [
    "# Your code here:\n",
    "\n",
    "#### Two Samples,Independent,Unknown pop std Two Tails Hypotesis Test ####\n",
    "# H0 mean of total points for water Pokemon  are equal to all non-water Pokemon\n",
    "\n",
    "alpha = 0.05\n",
    "\n",
    "sample_w = pokemon[pokemon['Type 1']=='Water']['Total']\n",
    "sample_a = pokemon['Total']\n",
    "\n",
    "\n",
    "ttest = ss.ttest_ind(sample_w, sample_a)\n",
    "\n",
    "\n",
    "pvalue  = ttest[1]\n",
    "\n",
    "if pvalue <= alpha:\n",
    "    print('H0 is rejected => H1 true with an interval of confidence of 95%')          \n",
    "else:\n",
    "    print(\"H0 can't be rejected with an interval of confidence of 95%\" )    "
   ]
  },
  {
   "cell_type": "markdown",
   "metadata": {},
   "source": [
    "Write your conclusion below."
   ]
  },
  {
   "cell_type": "code",
   "execution_count": 62,
   "metadata": {},
   "outputs": [
    {
     "name": "stdout",
     "output_type": "stream",
     "text": [
      "H0 can't be rejected with an interval of confidence of 95%\n"
     ]
    }
   ],
   "source": [
    "# Your conclusions here:\n",
    "\n",
    "if pvalue <= alpha:\n",
    "    print('H0 is rejected => H1 true with an interval of confidence of 95%')          \n",
    "else:\n",
    "    print(\"H0 can't be rejected with an interval of confidence of 95%\" )    "
   ]
  },
  {
   "cell_type": "markdown",
   "metadata": {},
   "source": [
    "# Challenge 2 - Matched Pairs Test\n",
    "\n",
    "In this challenge we will __compare dependent samples of data__ describing our Pokemon. Our goal is to see whether there is a __significant difference between each Pokemon's defense and attack scores__. Our __hypothesis__ is that the __defense and attack scores are equal__. In the cell below, import the `ttest_rel` function from `scipy.stats` and compare the two columns to see if there is a statistically significant difference between them."
   ]
  },
  {
   "cell_type": "code",
   "execution_count": 70,
   "metadata": {},
   "outputs": [
    {
     "data": {
      "text/plain": [
       "Ttest_relResult(statistic=4.325566393330478, pvalue=1.7140303479358558e-05)"
      ]
     },
     "execution_count": 70,
     "metadata": {},
     "output_type": "execute_result"
    }
   ],
   "source": [
    "# Your code here:\n",
    "#H0:defense and attack scores are equal\n",
    "\n",
    "alpha = 0.05\n",
    "s_attack = pokemon['Attack']\n",
    "s_defence = pokemon['Defense']\n",
    "\n",
    "ss.ttest_rel(s_attack,s_defence)"
   ]
  },
  {
   "cell_type": "markdown",
   "metadata": {},
   "source": [
    "Describe the results of the test in the cell below."
   ]
  },
  {
   "cell_type": "code",
   "execution_count": 71,
   "metadata": {},
   "outputs": [
    {
     "name": "stdout",
     "output_type": "stream",
     "text": [
      "H0 can't be rejected with an interval of confidence of 95%\n"
     ]
    }
   ],
   "source": [
    "# Your conclusions here:\n",
    "\n",
    "pvalue  = ttest[1]\n",
    "\n",
    "if pvalue <= alpha:\n",
    "    print('H0 is rejected => H1 true with an interval of confidence of 95%')          \n",
    "else:\n",
    "    print(\"H0 can't be rejected with an interval of confidence of 95%\" )    "
   ]
  },
  {
   "cell_type": "markdown",
   "metadata": {},
   "source": [
    "We are also curious about whether therer is a significant difference between the mean of special defense and the mean of special attack. Perform the hypothesis test in the cell below. "
   ]
  },
  {
   "cell_type": "code",
   "execution_count": 76,
   "metadata": {},
   "outputs": [
    {
     "data": {
      "text/plain": [
       "Ttest_relResult(statistic=0.853986188453353, pvalue=0.3933685997548122)"
      ]
     },
     "execution_count": 76,
     "metadata": {},
     "output_type": "execute_result"
    }
   ],
   "source": [
    "# Your code here:\n",
    "alpha = 0.05\n",
    "sp_atk = pokemon['Sp. Atk']\n",
    "sp_def = pokemon['Sp. Def']\n",
    "\n",
    "ss.ttest_rel(sp_atk,sp_def)"
   ]
  },
  {
   "cell_type": "markdown",
   "metadata": {},
   "source": [
    "Describe the results of the test in the cell below."
   ]
  },
  {
   "cell_type": "code",
   "execution_count": 77,
   "metadata": {},
   "outputs": [
    {
     "name": "stdout",
     "output_type": "stream",
     "text": [
      "H0 can't be rejected with an interval of confidence of 95%\n"
     ]
    }
   ],
   "source": [
    "# Your conclusions here:\n",
    "pvalue  = ttest[1]\n",
    "\n",
    "if pvalue <= alpha:\n",
    "    print('H0 is rejected => H1 true with an interval of confidence of 95%')          \n",
    "else:\n",
    "    print(\"H0 can't be rejected with an interval of confidence of 95%\" )"
   ]
  },
  {
   "cell_type": "markdown",
   "metadata": {},
   "source": [
    "As you may recall, a two sample matched pairs test can also be expressed as a one sample test of the difference between the two dependent columns.\n",
    "\n",
    "Import the `ttest_1samp` function and perform a one sample t-test of the difference between defense and attack. Test the hypothesis that the difference between the means is zero. Confirm that the results of the test are the same."
   ]
  },
  {
   "cell_type": "code",
   "execution_count": 96,
   "metadata": {},
   "outputs": [
    {
     "name": "stdout",
     "output_type": "stream",
     "text": [
      "H0 is rejected => H1 true with an interval of confidence of 95%\n",
      "tests give same result\n"
     ]
    }
   ],
   "source": [
    "# Your code here:\n",
    "# h0: the difference between the means of Attack and Dfense is zero\n",
    "sample= pokemon['Attack']-pokemon['Defense']\n",
    "mu = 0\n",
    "alpha = 0.05\n",
    "ttest = ss.ttest_1samp(sample,mu)\n",
    "pvalue  = ttest[1]\n",
    "\n",
    "if pvalue <= alpha:\n",
    "    print('H0 is rejected => H1 true with an interval of confidence of 95%')          \n",
    "else:\n",
    "    print(\"H0 can't be rejected with an interval of confidence of 95%\" )\n",
    "    \n",
    "pvalue2 = ss.ttest_rel(s_attack,s_defence)[1]\n",
    "\n",
    "if (pvalue - pvalue2) == 0:\n",
    "    print('tests give same result')\n",
    "else:\n",
    "    print('tests give diferent result')"
   ]
  },
  {
   "cell_type": "markdown",
   "metadata": {},
   "source": [
    "# Bonus Challenge - The Chi-Square Test\n",
    "\n",
    "The Chi-Square test is used to determine whether there is a statistically significant difference in frequencies. In other words, we are testing whether there is a relationship between categorical variables or rather when the variables are independent. This test is an alternative to Fisher's exact test and is used in scenarios where sample sizes are larger. However, with a large enough sample size, both tests produce similar results. Read more about the Chi Squared test [here](https://en.wikipedia.org/wiki/Chi-squared_test).\n",
    "\n",
    "In the cell below, create a contingency table using `pd.crosstab` comparing __whether a Pokemon is legenadary or not__ and whether the __Type 1 of a Pokemon is water or not__."
   ]
  },
  {
   "cell_type": "code",
   "execution_count": 104,
   "metadata": {},
   "outputs": [],
   "source": [
    "# Your code here:\n",
    "\n",
    "\n",
    "crosstab = pd.crosstab(pokemon['Legendary'],pokemon['Type 1']=='Water')"
   ]
  },
  {
   "cell_type": "markdown",
   "metadata": {},
   "source": [
    "Perform a chi-squared test using the `chi2_contingency` function in `scipy.stats`. You can read the documentation of the function [here](https://docs.scipy.org/doc/scipy-0.15.1/reference/generated/scipy.stats.chi2_contingency.html)."
   ]
  },
  {
   "cell_type": "code",
   "execution_count": 109,
   "metadata": {},
   "outputs": [
    {
     "data": {
      "text/plain": [
       "(2.9429200762850503,\n",
       " 0.08625467249550949,\n",
       " 1,\n",
       " array([[632.1, 102.9],\n",
       "        [ 55.9,   9.1]]))"
      ]
     },
     "execution_count": 109,
     "metadata": {},
     "output_type": "execute_result"
    }
   ],
   "source": [
    "# Your code here:\n",
    "# H0 wether a Pokemon is Legendary or not is independence\n",
    "\n",
    "chitest = ss.chi2_contingency(crosstab)\n",
    "chitest"
   ]
  },
  {
   "cell_type": "markdown",
   "metadata": {},
   "source": [
    "Based on a 95% confidence, should we reject the null hypothesis?"
   ]
  },
  {
   "cell_type": "code",
   "execution_count": 110,
   "metadata": {},
   "outputs": [
    {
     "name": "stdout",
     "output_type": "stream",
     "text": [
      "H0 is rejected => H1 true with an interval of confidence of 95%\n"
     ]
    }
   ],
   "source": [
    "# Your answer here:\n",
    "p_value = chitest[1]\n",
    "alpha = 0.05\n",
    "\n",
    "\n",
    "if pvalue <= alpha:\n",
    "    print('H0 is rejected => H1 true with an interval of confidence of 95%')          \n",
    "else:\n",
    "    print(\"H0 can't be rejected with an interval of confidence of 95%\" )    "
   ]
  },
  {
   "cell_type": "code",
   "execution_count": null,
   "metadata": {},
   "outputs": [],
   "source": []
  }
 ],
 "metadata": {
  "kernelspec": {
   "display_name": "Python 3",
   "language": "python",
   "name": "python3"
  },
  "language_info": {
   "codemirror_mode": {
    "name": "ipython",
    "version": 3
   },
   "file_extension": ".py",
   "mimetype": "text/x-python",
   "name": "python",
   "nbconvert_exporter": "python",
   "pygments_lexer": "ipython3",
   "version": "3.8.5"
  }
 },
 "nbformat": 4,
 "nbformat_minor": 2
}
