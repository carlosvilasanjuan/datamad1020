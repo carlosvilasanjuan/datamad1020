{
 "cells": [
  {
   "cell_type": "markdown",
   "metadata": {},
   "source": [
    "# Intro to Bayesian Statistics Lab\n",
    "\n",
    "Complete the following set of exercises to solidify your knowledge of Bayesian statistics and Bayesian data analysis."
   ]
  },
  {
   "cell_type": "code",
   "execution_count": 1,
   "metadata": {},
   "outputs": [],
   "source": [
    "import pandas as pd\n",
    "import numpy as np\n",
    "import matplotlib.pyplot as plt"
   ]
  },
  {
   "cell_type": "markdown",
   "metadata": {},
   "source": [
    "## 1. Cookie Problem\n",
    "\n",
    "Suppose we have __two bowls of cookies___. __Bowl 1__ contains __30 vanilla cookies__ and __10 chocolate__ cookies. __Bowl 2___ contains __20 of each__. You __randomly pick__ one cookie out of one of the bowls, and it is __vanilla__. Use Bayes Theorem to calculate the probability that the vanilla cookie you picked came from Bowl 1?"
   ]
  },
  {
   "cell_type": "code",
   "execution_count": 2,
   "metadata": {},
   "outputs": [
    {
     "name": "stdout",
     "output_type": "stream",
     "text": [
      "P(b1|V): 0.6\n"
     ]
    }
   ],
   "source": [
    "order = {\"v\":\"Vanila\", \"c\":\"Chocolate\"}\n",
    "bowls = [\"b1\",\"b2\"]\n",
    "bowl_1= (30,10)\n",
    "bowl_2 = (30,10)\n",
    "P_b1 = 0.5\n",
    "\n",
    "\n",
    "# P(v|b1):\n",
    "P_v_if_b1 = (30/40)\n",
    "\n",
    "# # P(v):\n",
    "P_v = 50/80\n",
    "\n",
    "## Bayes Theorem: P(b1|V) = [P(v|b1) * P(b1)]/P(v)\n",
    "\n",
    "# P(b1|V)\n",
    "P_b1_if_v = (P_v_if_b1*P_b1 /P_v)\n",
    "\n",
    "print(\"P(b1|V):\",P_b1_if_v)"
   ]
  },
  {
   "cell_type": "markdown",
   "metadata": {},
   "source": [
    "What is the probability that it came from Bowl 2?"
   ]
  },
  {
   "cell_type": "code",
   "execution_count": 3,
   "metadata": {},
   "outputs": [
    {
     "name": "stdout",
     "output_type": "stream",
     "text": [
      "P(b2|V): 0.4\n"
     ]
    }
   ],
   "source": [
    "## P(b2|V)\n",
    "\n",
    "## Bayes Theorem: P(b2|V) = [P(v|b2) * P(b2)]/P(v)\n",
    "\n",
    "P_b2 = 0.5\n",
    "P_v_if_b2 = 0.5\n",
    "P_b2_if_v = (P_v_if_b2*P_b2 /P_v)\n",
    "\n",
    "print(\"P(b2|V):\",P_b2_if_v)"
   ]
  },
  {
   "cell_type": "markdown",
   "metadata": {},
   "source": [
    "What if the cookie you had picked was chocolate? What are the probabilities that the chocolate cookie came from Bowl 1 and Bowl 2 respectively?"
   ]
  },
  {
   "cell_type": "code",
   "execution_count": 4,
   "metadata": {},
   "outputs": [
    {
     "name": "stdout",
     "output_type": "stream",
     "text": [
      "P_c_if_b1 0.25\n",
      "P_b1 0.5\n",
      "P_c 0.375\n",
      "\n",
      "P(b1|C): 0.3333333333333333\n",
      "P(b2|C): 0.6666666666666667\n"
     ]
    }
   ],
   "source": [
    "## Bayes Theorem: P(b1|C) = [P(C|b1) * P(b1)]/P(C)\n",
    "\n",
    "P_c_if_b1 = 1 - P_v_if_b1\n",
    "\n",
    "P_b1 = 0.5\n",
    "P_c = 1- P_v\n",
    "\n",
    "P_b1_if_c = (P_c_if_b1*P_b1 /P_c)\n",
    "\n",
    "print('P_c_if_b1', P_c_if_b1)\n",
    "print('P_b1', P_b1)\n",
    "print('P_c',P_c)\n",
    "print()\n",
    "\n",
    "print(\"P(b1|C):\",P_b1_if_c)\n",
    "\n",
    "P_b2_if_c = 1 - P_b1_if_c\n",
    "\n",
    "print(\"P(b2|C):\",P_b2_if_c)"
   ]
  },
  {
   "cell_type": "markdown",
   "metadata": {},
   "source": [
    "## 2. Candy Problem\n",
    "\n",
    "Suppose you have two bags of candies:\n",
    "\n",
    "- In Bag 1, the mix of colors is:\n",
    "    - Brown - 30%\n",
    "    - Yellow - 20%\n",
    "    - Red - 20%\n",
    "    - Green - 10%\n",
    "    - Orange - 10%\n",
    "    - Tan - 10%\n",
    "    \n",
    "- In Bag 2, the mix of colors is:\n",
    "    - Blue - 24%\n",
    "    - Green - 20%\n",
    "    - Orange - 16%\n",
    "    - Yellow - 14%\n",
    "    - Red - 13%\n",
    "    - Brown - 13%\n",
    "    \n",
    "Not knowing which bag is which, you randomly draw one candy from each bag. One is yellow and one is green. What is the probability that the yellow one came from the Bag 1?\n",
    "\n",
    "*Hint: For the likelihoods, you will need to multiply the probabilities of drawing yellow from one bag and green from the other bag and vice versa.*"
   ]
  },
  {
   "cell_type": "markdown",
   "metadata": {},
   "source": [
    "### Q: P(b1|y) ?"
   ]
  },
  {
   "cell_type": "markdown",
   "metadata": {},
   "source": [
    "##### Inputs ####"
   ]
  },
  {
   "cell_type": "code",
   "execution_count": 5,
   "metadata": {},
   "outputs": [
    {
     "name": "stdout",
     "output_type": "stream",
     "text": [
      "P_y_if_b1: 0.6666666666666666\n",
      "P_g_if_b1: 0.3333333333333333\n",
      "\n",
      "\n",
      "P_y_if_b2: 0.411764705882353\n",
      "P_g_if_b2: 0.5882352941176471\n"
     ]
    }
   ],
   "source": [
    "# P_g == P_y\n",
    "\n",
    "#P(y|b1)#\n",
    "P_y_if_b1 = 0.20/(0.20+0.10)\n",
    "P_g_if_b1 = 0.10/(0.20+0.10)\n",
    "print('P_y_if_b1:',P_y_if_b1)\n",
    "print('P_g_if_b1:',P_g_if_b1)\n",
    "\n",
    "#\n",
    "P_y_if_b2 = 0.14/(0.14+ 0.20)\n",
    "P_g_if_b2 = 0.20/(0.14+ 0.20)\n",
    "\n",
    "print('\\n')\n",
    "print('P_y_if_b2:',P_y_if_b2)\n",
    "print('P_g_if_b2:',P_g_if_b2)\n",
    "\n",
    "\n",
    "P_b1 = 0.5\n",
    "P_b2 = 0.5"
   ]
  },
  {
   "cell_type": "code",
   "execution_count": 6,
   "metadata": {},
   "outputs": [],
   "source": [
    "## Bayes Theorem: P(b1|y) = [P(y|b1) * P(b1)]/P(y)"
   ]
  },
  {
   "cell_type": "code",
   "execution_count": 7,
   "metadata": {},
   "outputs": [
    {
     "data": {
      "text/plain": [
       "0.6181818181818182"
      ]
     },
     "execution_count": 7,
     "metadata": {},
     "output_type": "execute_result"
    }
   ],
   "source": [
    "# Assuming P_b1 = P_b2\n",
    "P_y = (P_y_if_b1 + P_y_if_b2)/2\n",
    "\n",
    "\n",
    "# P(b1|y) = [P(y|b1) * P(b1)]/P(y)\n",
    "P_b1_if_y = (P_y_if_b1 * P_b1)/P_y\n",
    "\n",
    "P_b1_if_y"
   ]
  },
  {
   "cell_type": "markdown",
   "metadata": {},
   "source": [
    "What is the probability that the yellow candy came from Bag 2?"
   ]
  },
  {
   "cell_type": "code",
   "execution_count": 8,
   "metadata": {},
   "outputs": [
    {
     "data": {
      "text/plain": [
       "0.38181818181818183"
      ]
     },
     "execution_count": 8,
     "metadata": {},
     "output_type": "execute_result"
    }
   ],
   "source": [
    "P_b2_if_y = 1 - P_b1_if_y\n",
    "P_b2_if_y"
   ]
  },
  {
   "cell_type": "markdown",
   "metadata": {},
   "source": [
    "What are the probabilities that the green one came from Bag 1 and Bag 2 respectively?"
   ]
  },
  {
   "cell_type": "code",
   "execution_count": 9,
   "metadata": {},
   "outputs": [
    {
     "name": "stdout",
     "output_type": "stream",
     "text": [
      "P_b1_if_g: 0.38181818181818183\n",
      "P_b2_if_g: 0.6181818181818182\n"
     ]
    }
   ],
   "source": [
    "# (If the yellow one came from b1 the green came from b2) &  (If green came from b2 the yellow one came from b1)\n",
    "# So yellow one came from b1 == green came from b2\n",
    "\n",
    "P_b1_if_g = P_b2_if_y\n",
    "\n",
    "print('P_b1_if_g:',P_b1_if_g)\n",
    "\n",
    "# (If the yellow one came from b2 the green came from b1) &  (If green came from b1 the yellow one came from b2)\n",
    "# So yellow one came from b2 == green came from b1\n",
    "P_b2_if_g = P_b1_if_y\n",
    "print('P_b2_if_g:', P_b2_if_g)"
   ]
  },
  {
   "cell_type": "markdown",
   "metadata": {},
   "source": [
    "## 3. Monty Hall Problem\n",
    "\n",
    "Suppose you are a contestant on the popular game show *Let's Make a Deal*. The host of the show (Monty Hall) presents you with __three doors - Door A, Door B, and Door C__. He tells you that there is a sports car behind one of them and if you choose the correct one, you win the car!\n",
    "\n",
    "You select Door A, but then Monty makes things a little more interesting. He opens Door B to reveal that there is no sports car behind it and asks you if you would like to stick with your choice of Door A or switch your choice to Door C. Given this new information, what are the probabilities of you winning the car if you stick with Door A versus if you switch to Door C?"
   ]
  },
  {
   "cell_type": "markdown",
   "metadata": {},
   "source": [
    "s= select\n",
    "o = open \n",
    "p= price"
   ]
  },
  {
   "cell_type": "code",
   "execution_count": 10,
   "metadata": {},
   "outputs": [
    {
     "name": "stdout",
     "output_type": "stream",
     "text": [
      "if you stick with Door A the probability of winning the car is0.3333333333333333, if you change path it becomes 0.6666666666666667\n"
     ]
    }
   ],
   "source": [
    "# A -> Car is in door 1\n",
    "# B -> Door 2 is open\n",
    "\n",
    "# Probability of the car being in dor a is one third as equal prob assumed \n",
    "P_sa = 1/3\n",
    "\n",
    "# If i select 1 there they can chose eiter door b or c \n",
    "P_ob_if_sa = 0.5\n",
    "\n",
    "# As i select A b they can only open b or c\n",
    "P_ob = 0.5\n",
    "\n",
    "#BT\n",
    "P_sa_if_ob =  (P_ob_if_sa * P_sa)/P_ob\n",
    "print(f\"if you stick with Door A the probability of winning the car is{P_sa_if_ob}, if you change path it becomes {1-P_sa_if_ob}\")\n",
    " "
   ]
  },
  {
   "cell_type": "markdown",
   "metadata": {},
   "source": [
    "## 4. Bayesian Analysis \n",
    "\n",
    "Suppose you work for a landscaping company, and they want to advertise their service online. They create an ad and sit back waiting for the money to roll in. On the first day, the ad sends 100 visitors to the site and 14 of them sign up for landscaping services. Create a generative model to come up with the posterior distribution and produce a visualization of what the posterior distribution would look like given the observed data."
   ]
  },
  {
   "cell_type": "markdown",
   "metadata": {},
   "source": [
    "Produce a set of descriptive statistics for the posterior distribution."
   ]
  },
  {
   "cell_type": "code",
   "execution_count": 19,
   "metadata": {},
   "outputs": [],
   "source": [
    "from matplotlib import pyplot\n",
    "from random import choice\n",
    "\n",
    "sample = 100\n",
    "s_sample = 14\n",
    "\n",
    "s = [\"s\" for s in list(range(0,s_sample))]\n",
    "f = [\"f\" for f in list(range(0,sample - s_sample))]\n",
    "l_sample= s+f"
   ]
  },
  {
   "cell_type": "markdown",
   "metadata": {},
   "source": [
    "What is the 90% credible interval range?"
   ]
  },
  {
   "cell_type": "code",
   "execution_count": 20,
   "metadata": {},
   "outputs": [
    {
     "data": {
      "text/plain": [
       "(0.08256596274668465, 0.21789838097810033)"
      ]
     },
     "execution_count": 20,
     "metadata": {},
     "output_type": "execute_result"
    }
   ],
   "source": [
    "\n",
    "import statsmodels.stats.proportion as smp\n",
    "smp.proportion_confint(14,100, alpha=0.05, method='jeffreys')"
   ]
  },
  {
   "cell_type": "markdown",
   "metadata": {},
   "source": [
    "What is the Maximum Likelihood Estimate?"
   ]
  },
  {
   "cell_type": "code",
   "execution_count": 21,
   "metadata": {},
   "outputs": [
    {
     "ename": "TypeError",
     "evalue": "fit() missing 1 required positional argument: 'data'",
     "output_type": "error",
     "traceback": [
      "\u001b[0;31m---------------------------------------------------------------------------\u001b[0m",
      "\u001b[0;31mTypeError\u001b[0m                                 Traceback (most recent call last)",
      "\u001b[0;32m<ipython-input-21-973619bdf485>\u001b[0m in \u001b[0;36m<module>\u001b[0;34m\u001b[0m\n\u001b[1;32m      1\u001b[0m \u001b[0;32mimport\u001b[0m \u001b[0mscipy\u001b[0m\u001b[0;34m\u001b[0m\u001b[0;34m\u001b[0m\u001b[0m\n\u001b[0;32m----> 2\u001b[0;31m \u001b[0mscipy\u001b[0m\u001b[0;34m.\u001b[0m\u001b[0mstats\u001b[0m\u001b[0;34m.\u001b[0m\u001b[0mrv_continuous\u001b[0m\u001b[0;34m.\u001b[0m\u001b[0mfit\u001b[0m\u001b[0;34m(\u001b[0m\u001b[0ml_sample\u001b[0m\u001b[0;34m)\u001b[0m\u001b[0;34m\u001b[0m\u001b[0;34m\u001b[0m\u001b[0m\n\u001b[0m",
      "\u001b[0;31mTypeError\u001b[0m: fit() missing 1 required positional argument: 'data'"
     ]
    }
   ],
   "source": [
    "import scipy\n",
    "scipy.stats.rv_continuous.fit(l_sample)"
   ]
  },
  {
   "cell_type": "code",
   "execution_count": null,
   "metadata": {},
   "outputs": [],
   "source": []
  }
 ],
 "metadata": {
  "kernelspec": {
   "display_name": "Python 3",
   "language": "python",
   "name": "python3"
  },
  "language_info": {
   "codemirror_mode": {
    "name": "ipython",
    "version": 3
   },
   "file_extension": ".py",
   "mimetype": "text/x-python",
   "name": "python",
   "nbconvert_exporter": "python",
   "pygments_lexer": "ipython3",
   "version": "3.8.5"
  }
 },
 "nbformat": 4,
 "nbformat_minor": 2
}
